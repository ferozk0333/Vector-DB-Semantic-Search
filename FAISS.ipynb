{
 "cells": [
  {
   "cell_type": "code",
   "execution_count": 1,
   "metadata": {},
   "outputs": [
    {
     "name": "stdout",
     "output_type": "stream",
     "text": [
      "^C\n"
     ]
    }
   ],
   "source": [
    "!pip install langchain langchain-openai langchain-community faiss-cpu tiktoken"
   ]
  },
  {
   "cell_type": "code",
   "execution_count": 3,
   "metadata": {},
   "outputs": [],
   "source": [
    "import os\n",
    "from langchain_openai import OpenAI\n",
    "from langchain_community.document_loaders import TextLoader\n",
    "from langchain.text_splitter import RecursiveCharacterTextSplitter \n",
    "from langchain_openai import OpenAIEmbeddings\n",
    "from langchain_community.vectorstores import FAISS\n",
    "from langchain_core.vectorstores import VectorStoreRetriever\n",
    "from langchain.chains import RetrievalQA"
   ]
  },
  {
   "cell_type": "code",
   "execution_count": 4,
   "metadata": {},
   "outputs": [],
   "source": [
    "key = "
   ]
  },
  {
   "cell_type": "code",
   "execution_count": 34,
   "metadata": {},
   "outputs": [],
   "source": [
    "os.environ[\"OPENAI_API_KEY\"] = key"
   ]
  },
  {
   "cell_type": "markdown",
   "metadata": {},
   "source": []
  },
  {
   "cell_type": "code",
   "execution_count": 11,
   "metadata": {},
   "outputs": [],
   "source": [
    "loader = TextLoader('srk.txt', encoding='utf-8')"
   ]
  },
  {
   "cell_type": "code",
   "execution_count": 12,
   "metadata": {},
   "outputs": [],
   "source": [
    "documents = loader.load()"
   ]
  },
  {
   "cell_type": "code",
   "execution_count": 14,
   "metadata": {},
   "outputs": [
    {
     "name": "stdout",
     "output_type": "stream",
     "text": [
      "[Document(metadata={'source': 'srk.txt'}, page_content='Shah Rukh Khan[a] (pronounced [ˈʃɑːɦɾʊx xɑːn] ⓘ; born 2 November 1965), also known by the initialism SRK, is an Indian actor and film producer who works in Hindi cinema. Referred to in the media as the \"Baadshah of Bollywood\" and \"King Khan\",[b] he has appeared in more than 100 films, and earned numerous accolades, including 14 Filmfare Awards. He has been awarded the Padma Shri by the Government of India, as well as the Order of Arts and Letters and Legion of Honour by the Government of France. Khan has a significant following in Asia and the Indian diaspora worldwide. In terms of audience size and income, several media outlets have described him as one of the most successful film stars in the world.[c] Many of his films thematise Indian national identity and connections with diaspora communities, or gender, racial, social and religious differences and grievances.\\n\\nKhan began his career with appearances in several television series in the late 1980s and made his Bollywood debut in 1992 with the musical romance Deewana. He was initially recognised for playing villainous roles in the films Baazigar (1993) and Darr (1993). Khan established himself by starring in a series of top-grossing romantic films, including Dilwale Dulhania Le Jayenge (1995), Dil To Pagal Hai (1997), Kuch Kuch Hota Hai (1998), Mohabbatein (2000), Kabhi Khushi Kabhie Gham... (2001), Kal Ho Naa Ho (2003), Veer-Zaara (2004) and Kabhi Alvida Naa Kehna (2006). He earned critical acclaim for his portrayal of an alcoholic in the period romantic drama Devdas (2002), a NASA scientist in the social drama Swades (2004), a hockey coach in the sports drama Chak De! India (2007), and a man with Asperger syndrome in the drama My Name Is Khan (2010). Further commercial successes came with the romances Om Shanti Om (2007) and Rab Ne Bana Di Jodi (2008), and with his expansion to comedies in Chennai Express (2013) and Happy New Year (2014). Following a brief setback and hiatus, Khan made a career comeback with the 2023 action thrillers Pathaan and Jawan, both of which rank among the highest-grossing Indian films.\\n\\nAs of 2015, Khan is co-chairman of the motion picture production company Red Chillies Entertainment and its subsidiaries and is the co-owner of the Indian Premier League cricket team Kolkata Knight Riders and the Caribbean Premier League team Trinbago Knight Riders. The media often label him as \"Brand SRK\" because of his many endorsements and entrepreneurship ventures. He is a frequent television presenter and stage show performer. Khan\\'s philanthropic endeavours have provided health care and disaster relief, and he was honoured with UNESCO\\'s Pyramide con Marni award in 2011 for his support of children\\'s education and the World Economic Forum\\'s Crystal Award in 2018 for advocating for women\\'s and children\\'s rights in India. He regularly features in listings of the most influential people in Indian culture, and in 2008, Newsweek named him one of their fifty most powerful people in the world. In 2022, Khan was voted one of the 50 greatest actors of all time in a readers\\' poll by Empire, and in 2023, Time named him as one of the most influential people in the world.\\n\\nEarly life and family\\nParents\\nKhan\\'s father, Meer Taj Mohammed Khan, was an Indian independence activist from Peshawar who campaigned alongside the Khudai Khidmatgar, a nonviolent resistance movement led by Abdul Ghaffar Khan that sought a united and independent India.[3][4] Mir was a follower of Abdul Ghaffar Khan,[5] and affiliated with the Indian National Congress.[6] He was also the cousin of the major general in the Indian National Army Shah Nawaz Khan.[d] According to Khan his paternal grandfather, Mir Jan Muhammad Khan, was an ethnic Pashtun (Pathan) from Afghanistan.[9][6][10] However, his paternal cousins in Peshawar later clarified that the family speaks Hindko and is originally from Kashmir, from where they settled in Peshawar centuries back, contradicting the claim that his grandfather was a Pashtun from Afghanistan.[6][11] As of 2010, Khan\\'s paternal family was still living in the Shah Wali Qataal area of Peshawar\\'s Qissa Khwani Bazaar.[6]\\n\\nIn 1946, Mir moved to Delhi to study law at Delhi University.[12] When the partition of India occurred in 1947, he was forced to stay in Delhi, and did not return to Peshawar until many years later.[13] Khan\\'s mother, Lateef Fatima, a magistrate, was the daughter of a senior government engineer.[14][d][15] His parents were married in 1959.[16]\\n\\nEarly life\\nKhan was born on 2 November 1965 into a Muslim family in New Delhi.[17] He spent the first five years of his life in Mangalore, where his maternal grandfather, Iftikhar Ahmed, served as chief engineer of the port in the 1960s.[18][19][e] Khan has described himself on Twitter as \"half Hyderabadi (mother), half Pathan (father), and some Kashmiri (grandmother)\".[21]\\n\\nKhan grew up in the Rajendra Nagar neighbourhood of New Delhi.[22] His father had several business ventures including a restaurant, and the family lived a middle-class life in rented apartments.[23] Khan attended St. Columba\\'s School in central Delhi where he excelled in his studies and in sports such as hockey and football,[24] and received the school\\'s highest award, the Sword of Honour.[23] Initially Khan aspired to pursue a career in sports, however owing to a shoulder injury in his early years meant that he could no longer play.[25] Instead, in his youth, he acted in stage plays and received praise for his imitations of Bollywood actors, of which his favourites were Dilip Kumar, Amitabh Bachchan, and Mumtaz.[26] One of his childhood friends and acting partners was Amrita Singh, who became a Bollywood actress.[27] Khan enrolled at Hansraj College (1985–88) to earn his bachelor\\'s degree in economics, but spent much of his time at Delhi\\'s Theatre Action Group (TAG),[28] where he studied acting under the mentorship of theatre director Barry John.[29][30] After Hansraj, he began studying for a master\\'s degree in mass communication at Jamia Millia Islamia, but left to pursue his acting career.[31][32] He also attended the National School of Drama in Delhi during his early career in Bollywood.[33]\\n\\nHis father died of cancer in 1981,[f] and his mother died in 1991 from complications of diabetes.[36] After the death of their parents, his older sister, Shahnaz Lalarukh (born 1960)[37] fell into a depressed state and Khan took on the responsibility of caring for her.[34][38] Shahnaz continues to live with her brother and his family in their Mumbai mansion.[39]\\n\\nActing career\\nSee also: Shah Rukh Khan filmography\\n1988–1992: Television and film debut\\nKhan\\'s first starring role was in Lekh Tandon\\'s television series Dil Dariya, which began shooting in 1988, but production delays led to the Raj Kumar Kapoor directed 1989 series Fauji becoming his television debut instead.[40] In the series, which depicted a realistic look at the training of army cadets, he played the leading role of Abhimanyu Rai.[41][42] This led to further appearances in Aziz Mirza\\'s television series Circus (1989–90) and Mani Kaul\\'s miniseries Idiot (1992).[43] Khan also played minor parts in the serials Umeed (1989) and Wagle Ki Duniya (1988–90),[43] and in the English-language television film In Which Annie Gives It Those Ones (1989).[44] His appearances in these serials led critics to compare his look and acting style with those of the film actor Dilip Kumar,[45] but Khan was not interested in film acting at the time, thinking that he was not good enough.[43][46]\\n\\nKhan changed his decision to act in films in April 1991,[47] citing it as a way to escape the grief of his mother\\'s death.[48] He moved from Delhi to Mumbai to pursue a full-time career in Bollywood and was quickly signed to four films.[47] His first offer was for Hema Malini\\'s directorial debut Dil Aashna Hai,[33][41] and by June, he had started his first shoot.[49] His film debut was in Deewana, which was released in June 1992.[50] In it he starred alongside Divya Bharti as the second male lead behind Rishi Kapoor. Deewana became a box office hit and launched Khan\\'s Bollywood career;[51] he earned the Filmfare Best Male Debut Award for his performance.[52] Also released in 1992 were Khan\\'s first films as the male lead, Chamatkar, Dil Aashna Hai, and the comedy Raju Ban Gaya Gentleman, which was his first of many collaborations with the actress Juhi Chawla.[53] His initial film roles saw him play characters who displayed energy and enthusiasm. According to Arnab Ray of Daily News and Analysis, Khan brought a new kind of acting as he was \"sliding down stairs on a slab of ice, cartwheeling, somersaulting, lips trembling, eyes trembling, bringing to the screen the kind of physical energy ... visceral, intense, maniacal one moment and cloyingly boyish the next.\"[54]\\n\\n1993–1994: Negative characters\\nAmong his 1993 releases, Khan garnered the most appreciation for portraying villainous roles in two box office hits: a murderer in Baazigar, and an obsessive lover in Darr.[55] The former, in which Khan played an ambiguous avenger who murders his girlfriend, shocked Indian audiences with an unexpected violation of the standard Bollywood formula.[56] In The Cambridge Companion to Modern Indian Culture, Sonal Khullar called the character \"the consummate anti-hero\".[57] His performance in Baazigar, which would be his first of many appearances with actress Kajol, won Khan his first Filmfare Award for Best Actor.[58] In 2003, the Encyclopaedia of Hindi Cinema stated that Khan \"defied the image of the conventional hero in both these films and created his own version of the revisionist hero\".[58] Darr marked the first of Khan\\'s many collaborations with filmmaker Yash Chopra and his company Yash Raj Films. Khan\\'s stammering and the use of the phrase \"I love you, K-k-k-Kiran\" were popular with audiences.[59] Malini Mannath of The Indian Express argued that he \"walks away with the acting honours in yet another negative role\".[60] For Darr he received a nomination for the Filmfare Award for Best Performance in a Negative Role, also known as the Best Villain Award, but lost to Paresh Rawal for Sir.[61] Also in 1993, Khan performed a nude scene with Deepa Sahi in Maya Memsaab, although parts of it were censored by the Central Board of Film Certification.[62] The ensuing controversy prompted him to eschew such scenes in future roles.[63]\\n\\nIn 1994, Khan played a love-struck musician in Kundan Shah\\'s comedy-drama film Kabhi Haan Kabhi Naa opposite Deepak Tijori and Suchitra Krishnamurthy, which he later professed was his favourite role. His performance earned him a Filmfare Critics Award for Best Performance, and in a retrospective review from 2004, Sukanya Verma of Rediff.com referred to it as Khan\\'s best performance, calling him \"spontaneous, vulnerable, boyish, mischievous and acting straight from the heart\".[64] Also in 1994, Khan won the Filmfare Best Villain Award for his role as an obsessive lover in Anjaam, co-starring Madhuri Dixit.[58] At the time, playing antagonistic roles was considered risky to a leading man\\'s career in mainstream Hindi cinema. Arnab Ray subsequently credited Khan for taking \"insane risks\" and \"pushing the envelope\" by choosing to play such characters, through which he established his career.[54] The director Mukul S. Anand called him \"the new face of the industry\" at the time.[48]\\n\\n1995–1998: Romantic roles\\nShah Rukh Khan hugs Kajol\\nWith co-star Kajol in 2014 celebrating 1000 weeks continuous showing of their film Dilwale Dulhania Le Jayenge\\nKhan starred in seven films in 1995, the first of which was Rakesh Roshan\\'s melodramatic thriller Karan Arjun. Co-starring Salman Khan and Kajol, it became the second-highest-grossing film of the year in India.[65] His most significant release that year was Aditya Chopra\\'s directorial debut, the romance Dilwale Dulhania Le Jayenge, in which he played a young Non-resident Indian (NRI) who falls in love with Kajol\\'s character during a trip across Europe. Khan was initially reticent to portray the role of a lover, but this film is credited with establishing him as a \"romantic hero\".[66] Lauded by both critics and the public, it became the year\\'s highest grossing production in India and abroad and was declared an \"all time blockbuster\" by Box Office India,[65][67] with an estimated lifetime gross of ₹2 billion (US$61.68 million) worldwide.[68][69] It is the longest-running film in the history of Indian cinema; it is still showing at the Maratha Mandir theatre in Mumbai after more than 1000 weeks as of early 2015.[70][71] The film won ten Filmfare Awards, including the second of Khan\\'s Best Actor Awards.[58] The director and critic Raja Sen said, \"Khan gives a fabulous performance, redefining the lover for the 1990s with great panache. He\\'s cool and flippant, but sincere enough to appeal to the [audience]. The performance itself is, like the best in the business, played well enough to come across as effortless, as non-acting.\"[72]\\n\\nIn 1996, all four of Khan\\'s releases failed critically and commercially,[73] but the following year, his starring role opposite Aditya Pancholi and Juhi Chawla in Aziz Mirza\\'s romantic comedy Yes Boss earned him accolades that included a Filmfare Best Actor nomination.[61] Later in 1997, he starred in Subhash Ghai\\'s diasporic-themed social drama Pardes,[74] portraying Arjun, a musician facing a moral dilemma. India Today cites it as one of the first major Bollywood pictures to succeed in the United States.[75] Khan\\'s final release of 1997 was the second collaboration with Yash Chopra in the popular musical romance Dil To Pagal Hai. He portrayed Rahul, a stage director caught in a love triangle between Madhuri Dixit and Karisma Kapoor. The film and his performance met with critical praise, winning Khan his third Best Actor Award at Filmfare.[58]\\n\\nKhan performed the lead role in three films and made one special appearance in 1998. In his first release of the year, he played a double role opposite Juhi Chawla and Sonali Bendre in Mahesh Bhatt\\'s action comedy Duplicate, the first of his many collaborations with Yash Johar\\'s production company Dharma Productions. The film was not well received,[76] but India Today lauded Khan for his energetic performance.[77] The same year, Khan won critical praise for his performance as an All India Radio correspondent who develops an infatuation for a mysterious terrorist (Manisha Koirala) in Dil Se..,[78] the third instalment of Mani Ratnam\\'s trilogy of terror films.[79][80] In his final release of the year, he portrayed a college student in Karan Johar\\'s romance Kuch Kuch Hota Hai, in which he was involved in a love triangle along with Kajol and Rani Mukerji. The writer Anjana Motihar Chandra has referred to the picture as the blockbuster of the 1990s, a \"pot-pourri of romance, comedy, and entertainment.\"[81] Khan won the Best Actor award at the Filmfare Awards ceremony for the second consecutive year,[58] although he and several critics believed his performance to have been overshadowed by that of Kajol.[82]\\n\\nThe roles in this phase of his career, and the series of romantic comedies and family dramas that followed, earned Khan widespread adulation from audiences, particularly teenagers,[83] and according to the author Anupama Chopra, established him as an icon of romance in India.[84][85] He continued to have frequent professional associations with Yash Chopra, Aditya Chopra, and Karan Johar, who moulded his image and made him into a superstar.[86] Khan became a romantic leading man without ever actually kissing any of his co-stars,[84] although he broke this rule in 2012, after strong urging by Yash Chopra.[87]\\n\\n1999–2003: Career fluctuations\\n\\nKhan in 2000\\nKhan\\'s only release in 1999 was Baadshah, in which he starred opposite Twinkle Khanna. Although the film underperformed at the box office,[88] it earned him a Filmfare Award nomination for Best Performance in a Comic Role.[61] Khan became a producer in 1999 in a collaboration with the actress Juhi Chawla and the director Aziz Mirza for a production company called Dreamz Unlimited.[89] The company\\'s first production, Phir Bhi Dil Hai Hindustani (2000), starring Khan and Chawla, was a commercial failure.[90] It was released one week after Kaho Naa... Pyaar Hai, starring Hrithik Roshan, then a newcomer, who critics believed overshadowed Khan.[91] Swapna Mitter of Rediff.com spoke of Khan\\'s predictable mannerisms, saying \"Frankly, it\\'s high time he innovated his act a little.\"[92] Khan did a supporting role in Kamal Haasan\\'s Hey Ram (2000), which was made simultaneously in Tamil and Hindi. He thereby made his Tamil debut by playing the role of an archaeologist named Amjad Khan.[93] He performed free of charge as he wanted to work with Haasan.[94][95] On Khan\\'s performance, T. Krithika Reddy of The Hindu wrote, \"Shah Rukh Khan, as usual comes up with an impeccable performance.\"[93]\\n\\nIn 2001, Dreamz Unlimited attempted a comeback with Khan portraying the title role in Santosh Sivan\\'s historical epic Aśoka, a partly fictionalised account of the life of emperor Ashoka. The film was screened at the Venice Film Festival and the 2001 Toronto International Film Festival to a positive response,[96] but it performed poorly at Indian box offices.[97] As losses continued to mount for the production company,[91] Khan was forced to close srkworld.com, a company that he had started along with Dreamz Unlimited.[98] In December 2001, Khan suffered a spinal injury while performing an action sequence for a special appearance in Krishna Vamsi\\'s Shakti: The Power.[99] He was subsequently diagnosed with a prolapsed disc, and attempted multiple alternative therapies. None of these provided a permanent solution to the injury, which caused him severe pain while shooting several of his films.[99][100] By the beginning of 2003, his condition had worsened to the point that he had to undergo anterior cervical discectomy and fusion surgery at Wellington Hospital, London.[101][102][103] Khan resumed shooting in June 2003, but he reduced his workload and the number of film roles he accepted annually.[100]\\n\\nShah Rukh Khan views a book with Aishwarya Rai in 2002\\nWith co-star Aishwarya Rai at the home video launch of their film Devdas (2002)\\nSuccesses during this time included Aditya Chopra\\'s Mohabbatein (2000), and Karan Johar\\'s family drama Kabhi Khushi Kabhie Gham... (2001),[90][104] which Khan cites as a turning point in his career.[105] Both films co-starred Amitabh Bachchan as an authoritarian figure, and presented ideological struggles between the two men.[106][107] Khan\\'s performances in the films were met with wide public appreciation, and he was awarded his second Filmfare Critics Award for Best Actor for Mohabbatein.[61][108] Kabhi Khushi Kabhie Gham... remained the top-grossing Indian production of all time in the overseas market for the next five years.[109]\\n\\nIn 2002, Khan played the title role as a rebellious alcoholic opposite Aishwarya Rai and Madhuri Dixit in Sanjay Leela Bhansali\\'s period romance Devdas. At a cost of over ₹500 million (US$10.29 million), it was the most expensive Bollywood film ever made at the time,[110] and became a box office success, earning approximately ₹1.68 billion ($35 million) worldwide.[111] The film earned numerous accolades including 10 Filmfare Awards, with Best Actor for Khan,[52] and a BAFTA Award for Best Film Not in the English Language.[112] Khan next starred in Kal Ho Naa Ho (2003), a comedy-drama written by Karan Johar and set in New York City, which became the second-highest-grossing film domestically and the top-grossing Bollywood film in external markets that year.[104][113] Co-starring with Jaya Bachchan, Saif Ali Khan, and Preity Zinta, Khan received critical praise for his portrayal of Aman Mathur, a man with a fatal heart disease, with critics praising his emotional impact upon audiences.[114] Conflict broke out between Khan and the other partners of Dreamz Unlimited over the failure to cast Juhi Chawla in their 2003 production of Aziz Mirza\\'s Chalte Chalte, and they parted ways, despite the film\\'s success.[115]\\n\\n2004–2009: Comeback\\n2004 was a critically and commercially successful year for Khan. He transformed Dreamz Unlimited into Red Chillies Entertainment, adding his wife Gauri as a producer.[116] In the company\\'s first production, he starred in Farah Khan\\'s directorial debut, the masala film Main Hoon Na. A fictionalised account of India–Pakistan relations, it was viewed by some commentators as a conscious effort to move away from the stereotypical portrayal of Pakistan as the constant villain.[117] Khan then played an Indian Air Force pilot who falls in love with a Pakistani woman (Preity Zinta) in Yash Chopra\\'s romance film Veer-Zaara, which was screened at the 55th Berlin Film Festival to critical praise.[118] It was the highest earning film of 2004 in India, with a worldwide gross of over ₹940 million (US$20.74 million), and Main Hoon Na was the second-highest earner with ₹680 million (US$15.01 million).[109][119]\\n\\nShah Rukh Khan standing beside Priyanka Chopra at film premiere\\nWith Priyanka Chopra at the premiere for Don in 2006\\nIn his final release of 2004, Khan starred as a NASA scientist who patriotically returns to India to rekindle his roots in Ashutosh Gowariker\\'s social drama Swades (meaning \"Homeland\"), which became the first Indian picture to be shot inside the NASA research centre at the Kennedy Space Center in Florida.[120] Film scholar Stephen Teo refers to the picture as an example of \"Bollywoodised realism\", displaying a transcendence in conventional narrative and audience expectation in Hindi cinema.[121] In December 2013, The Times of India reported that Khan found filming the picture such an emotionally overwhelming and life-changing experience that he had still not viewed the film.[122] Derek Elley of Variety found Khan\\'s performance \"unsettling\" as \"a self-satisfied expatriate determined to bring Western values to poor Indian peasants\",[123] but several film critics, including Jitesh Pillai, believed it to have been his finest acting to date.[124][125] He was nominated for the Filmfare Best Actor Award for all three of his 2004 releases and eventually won the award for Swades.[52][61] Filmfare later included his performance in the 2010 issue of Bollywood\\'s \"Top 80 Iconic Performances\".[126]\\n\\nIn 2005, Khan starred in Amol Palekar\\'s fantasy drama, Paheli. The film was India\\'s submission for the Best Foreign Language Film at the 79th Academy Awards.[127] He later collaborated with Karan Johar for the third time in the musical romantic drama Kabhi Alvida Naa Kehna (2006), in which he played an unhappily married man who has an extramarital affair with a married woman. The film, which featured an ensemble cast including Amitabh Bachchan, Abhishek Bachchan, Rani Mukerji, Preity Zinta and Kirron Kher, emerged as India\\'s highest-grossing film in the overseas market,[104] earning more than ₹1.13 billion (US$25.62 million) worldwide.[109] Both his roles in Kabhi Alvida Naa Kehna and the action film Don, a remake of the 1978 film of the same name, earned Khan Best Actor nominations at the Filmfare Awards,[128] despite his performance as the titular character in Don being negatively compared to that of Amitabh Bachchan in the original film.[129][130]\\n\\n\"Such great things have happened to such a normal guy like me. I am a nobody who shouldn\\'t have been able to do all this but I have done it. I tell everyone that there\\'s this myth I work for; there is this myth called Shahrukh Khan and I am his employee. I have to live up to that ... I\\'ll do it, I am an actor. But I can\\'t start believing in this myth.\"\\n\\n —Khan reflecting in 2007 on his position as the Hindi film industry\\'s top star[131]\\nIn 2007, Khan portrayed a disgraced hockey player who coached the Indian women\\'s national hockey team to World Cup success in Yash Raj Films\\' semi-fictional Chak De! India. Bhaichand Patel notes that Khan, who had a background in the sport playing for his university\\'s hockey team,[132] essentially portrayed himself as a \"cosmopolitan, liberal, Indian Muslim\".[133] Faring well in both India and abroad,[109][134] Khan garnered another Filmfare Award for Best Actor for his performance,[52] which Rajeev Masand of CNN-IBN considers to have been \"without any of his typical trappings, without any of his trademark quirks\", portraying Kabir Khan \"like a real flesh-and-blood human being\".[135] Filmfare included his performance in their 2010 issue of the \"Top 80 Iconic Performances\".[136] In the same year, Khan starred alongside Arjun Rampal, Deepika Padukone and Shreyas Talpade in Farah Khan\\'s reincarnation melodrama Om Shanti Om, portraying a 1970s junior artiste who is reborn as a 2000s era superstar. The film became the highest grossing Indian motion picture of 2007, both domestically and abroad.[104][137] Om Shanti Om earned Khan his second nomination of the year for Best Actor at Filmfare.[138] Khalid Mohammed from Hindustan Times wrote, \"the enterprise belongs to Shah Rukh Khan, who tackles comedy, high drama and action with his signature style—spontaneous and intuitively intelligent\".[139]\\n\\nKhan collaborated for the third time with Aditya Chopra on the romantic comedy Rab Ne Bana Di Jodi (2008) opposite debutante Anushka Sharma. He played Surinder Sahni, a shy man with low self-esteem, whose love for his young arranged wife (Sharma) causes him to transform himself into Raj, a boisterous alter-ego. Rachel Saltz of The New York Times believed the dual role to have been \"tailor-made\" for Khan, allowing him to display his talents,[140] although Deep Contractor from Epilogue thought Khan displayed greater strength in the role of Surinder and weakness in the role of monologue-prone Raj.[141] In December 2008, Khan suffered a shoulder injury while filming a small role in Mudassar Aziz\\'s Dulha Mil Gaya. He underwent extensive physiotherapy sessions at the time but the pain left him almost immobile and he had arthroscopic surgery in February 2009.[142][143] He performed a special appearance in the 2009 film Billu, playing Bollywood superstar Sahir Khan—a fictionalised version of himself, wherein he performed musical item numbers with actresses Kareena Kapoor, Priyanka Chopra, and Deepika Padukone.[144] As head of the film\\'s production company, Red Chillies, Khan made the call to change the title of the film from Billu Barber to Billu after hairdressers across the country complained that the word \"barber\" was derogatory. The company covered up the offending word on billboards that had already been installed with the original title.[145]\\n\\n2010–2014: Expansion to action and comedy\\nShah Rukh Khan with Kajol and Karan Johar\\nWith director Karan Johar and co-star Kajol at an event for My Name Is Khan in 2010\\nAfter refusing the role that subsequently went to Anil Kapoor in Danny Boyle\\'s Slumdog Millionaire (2008), Khan began shooting My Name Is Khan (2010), his fourth collaboration with director Karan Johar and his sixth with Kajol.[146] The film is based on a true story and set against the backdrop of perceptions of Islam after the 11 September attacks. Khan plays Rizwan Khan, a Muslim suffering from mild Asperger syndrome who sets out on a journey across America to meet the country\\'s president, a role that film scholar Stephen Teo sees as a \"symbol of assertive rasa values\" and another example of Khan representing NRI identity in global Bollywood.[147] To provide an accurate portrayal of a sufferer without disparagement, Khan spent several months researching his role by reading books, watching videos and talking to people affected by the condition.[148][149] Upon release, My Name is Khan became one of the highest grossing Bollywood films of all time outside India,[109][104] and earned Khan his eighth Filmfare Award for Best Actor,[52] equalling the record for the most wins in the category with Dilip Kumar.[150] Jay Wesissberg from Variety noted how Khan portrayed the Asperger\\'s sufferer with \"averted eyes, springy steps, [and] stuttered repetitions of memorized texts\", believing it to have been a \"standout performance sure to receive the Autism Society\\'s gold seal of approval\".[151]\\n\\nIn 2011, Khan starred alongside Arjun Rampal and Kareena Kapoor in Anubhav Sinha\\'s superhero film Ra.One, his first work in this subgenre, as a favour to his children.[152] The film follows the story of a London-based video game designer who creates a villainous character who escapes into the real world. It was billed as Bollywood\\'s most expensive production; it had an estimated budget of ₹1.25 billion (US$26.78 million).[153][154] Despite negative media coverage of the film\\'s box office performance, Ra.One was a financial success with a gross of ₹2.4 billion (US$51.42 million).[155][156] The film, and Khan\\'s portrayal of a dual role, received mixed reviews; while most critics praised his performance as the robotic superhero G.One, they criticised his portrayal of the video game designer Shekhar.[157] Khan\\'s second release of 2011 was Don 2, a sequel to Don (2006).[158] To prepare for his role, Khan exercised extensively as he performed most of the stunts himself.[159] His performance earned him positive reviews from critics; Nikhat Kazmi of The Times of India said, \"Shah Rukh remains in command and never loses his foothold, neither through the dramatic sequences nor through the action cuts\".[160] The year\\'s highest grossing Bollywood production abroad,[161][162] it was showcased at the 62nd Berlin International Film Festival.[163]\\n\\n\\nAt an event for Chennai Express in 2013\\nKhan\\'s only release in 2012 was Yash Chopra\\'s swan song,[164] the romantic drama Jab Tak Hai Jaan, which saw him once again in a romantic role, starring opposite Katrina Kaif and Anushka Sharma. CNN-IBN considered the overall performance by Khan to have been one of his finest to date, but believed that Khan\\'s first screen kiss of his career with Katrina Kaif, twenty years his junior, was an awkward one.[87][165] Jab Tak Hai Jaan was a moderate financial success earning over ₹2.11 billion (US$39.49 million) worldwide.[166][167] The film was showcased at the 2012 Marrakech International Film Festival in Morocco, along with Kabhi Khushi Kabhie Gham..., Veer-Zaara, and Don 2.[168] At the following Zee Cine Awards, Khan performed a tribute to the late Yash Chopra along with Kaif, Sharma, and several of Chopra\\'s other past heroines.[169]\\n\\nIn 2013, Khan starred in Rohit Shetty\\'s action comedy Chennai Express for Red Chillies Entertainment, a film which earned mixed critical reviews and extensive criticism for its perceived disparagement of South Indian culture, though the film included a tribute to Tamil cinema star Rajinikanth.[170] Critic Khalid Mohamed thought that Khan overacted in the film and criticised him for \"re-rendering every old trick in the acting book\".[171] Despite the criticism, the film broke many box office records for Hindi films in both India and abroad, surpassing 3 Idiots to briefly become the highest grossing Bollywood film of all time, with a gross of almost ₹4 billion (US$68.26 million) in worldwide ticket sales.[172][173] On International Women\\'s Day in 2013, The Times of India reported that Khan had requested a new convention with the name of his lead female co-stars appearing above his own in the credits. He claimed that the women in his life, including his co-stars, have been the reason for his success.[174] In 2014, the actor was featured in Farah Khan\\'s ensemble action comedy Happy New Year, which co-starred Deepika Padukone, Abhishek Bachchan and Boman Irani; his third collaboration with the director.[175] Although Khan\\'s unidimensional character was criticised,[176] the film became a major commercial success grossing ₹3.8 billion (US$64.85 million) worldwide.[177][178][179]\\n\\n2015–2022: Career setbacks and hiatus\\n\\nKhan in 2017\\nKhan next appeared alongside Kajol, Varun Dhawan and Kriti Sanon in Rohit Shetty\\'s action comedy Dilwale (2015). The film garnered mixed reviews, though it was financially profitable with a gross of ₹3.7 billion (US$57.68 million).[180] Namrata Joshi of The Hindu commented, \"With Dilwale, Rohit Shetty goes hopelessly wrong despite much that he had at his disposal, including a power-packed cast and producer\", and felt that the attempt to repackage Khan and Kajol had backfired.[181] He then took on dual parts of a superstar and his doppelgänger fan in Maneesh Sharma\\'s action thriller Fan (2016). Peter Bradshaw of The Guardian considered the film to be \"exhausting, bizarre yet watchable\" and thought that Khan was aptly \"creepy\" as the obsessive admirer.[182] The film underperformed at the box office, and trade journalists attributed this failure to the film\\'s non-conformity to mainstream formula.[183] Later that year, Khan portrayed the supporting part of a therapist to an aspiring cinematographer (Alia Bhatt) in Gauri Shinde\\'s coming-of-age film Dear Zindagi.[184]\\n\\nIn Rahul Dholakia\\'s action crime film Raees (2017), Khan took on the part of the titular anti-hero—a bootlegger turned mobster in 1980s Gujarat. In a typical mixed review, Pratim D. Gupta of The Telegraph thought Khan\\'s performance to be \"inconsistent, intense and power-packed at times, but often slipping out of character into his usual mix of stock mannerisms\".[185] Commercially, the film was a modest success, earning about ₹3.08 billion (US$47.3 million) worldwide.[186][187] Khan returned to the romantic genre with the role of a tourist guide who falls in love with a traveller (Anushka Sharma) in Imtiaz Ali\\'s Jab Harry Met Sejal (2017). In a review for Mint, Uday Bhatia criticised Khan\\'s pairing with Sharma, 22 years his junior, writing that Khan had performed \"similar gestures of love decades ago to actors his own age\".[188] He reunited with Sharma and Katrina Kaif in Aanand L Rai\\'s romantic drama Zero (2018), in which he played Bauua Singh, a dwarf involved in a love triangle.[189][190] The film received mixed reviews with praise directed to Khan\\'s performance.[191][192] Writing for Hindustan Times, Raja Sen commended his \"dominating performance and tremendous energy\" and Anna M. M. Vetticad of Firstpost called him an \"excellent fit\" for the role for allowing his \"naturally energetic personality, comic timing and charm to take flight\".[193][194] Both Jab Harry Met Sejal and Zero were box office flops.[195][196]\\n\\nAccording to a Box Office India report, Khan\\'s stardom was impacted by his films failing to do well.[197] Following the release of Zero, Khan took a four-year break from full-time acting, which was partly caused by the COVID-19 pandemic in India. He took the time off to attempt a career comeback.[198] During this period, he made extended special appearances in the 2022 films Brahmāstra: Part One – Shiva and Rocketry: The Nambi Effect.[199]\\n\\n2023–present: Resurgence\\nIn 2023, Khan reunited with Yash Raj Films in the action thriller Pathaan (2023), set in the YRF Spy Universe, in which he played an exiled field agent assigned to stop a terrorist attack in India.[200] Critic Sukanya Verma took note of Khan\\'s \"weathered intensity, grizzly charisma and trademark wit\", while Kaveree Bamzai termed it a \"much-needed makeover\" of an ageing Khan into an action star.[201][202] Pathaan broke several box-office records, thus re-establishing Khan\\'s stardom.[203][204] Khan took on another action film role in the same year in Atlee\\'s Jawan, playing father and son doppelgängers.[205] Nandini Ramnath of Scroll.in wrote that \"Khan\\'s screen image – expansive, suffused with love, heroic in an old-fashioned way without being aggressively macho, irreverent but also sincere – helps sell a conceit that might have crashed with any other actor\".[206] Jawan broke the records set by Pathaan.[207] Both films grossed over ₹10 billion (US$120 million) to rank, respectively, as Hindi cinema\\'s second and third biggest grossers worldwide,[208] making Khan the first Indian actor to deliver two films that earned over ₹10 billion.[209]\\n\\nIn his final release of 2023, Khan starred in Rajkumar Hirani\\'s Dunki, a social drama about an illegal immigration technique named donkey flight.[210][211] Uday Bhatia wrote that his role as a \"romantic feminist soldier patriot friend\" marked \"a break from Khan the action star but offers no respite from the Khan the perfect screen idol\".[212] Grossing over ₹4 billion (US$46 million), Dunki emerged as Khan\\'s third consecutive commercial success of the year, although it did not match up to the record grosses of Pathaan or Jawan.[213][214]\\n\\nOther work\\nFilm production and television hosting\\n\\nAt the 61st Filmfare Awards in 2016, which Khan hosted along with Kapil Sharma\\nKhan co-produced three films from 1999 to 2003 as a founding member of the partnership Dreamz Unlimited.[89] After the partnership was dissolved, he and Gauri restructured the company as Red Chillies Entertainment,[116] which includes divisions dealing with film and television production, visual effects, and advertising.[215] As of 2015, the company has produced or co-produced at least nine films.[216] Either Khan or Gauri are usually given production credits, and he has appeared in most of the films, either in the lead role, or in a guest appearance. Khan was involved in several aspects of the making of Ra.One (2011). Aside from acting, he produced the film, volunteered to write the console game script, dubbed for it, oversaw its technical development, and wrote the digital comics based on the film\\'s characters.[217][218] Khan has occasionally done playback singing for his films. In Josh (2000) he sang the popular song \"Apun Bola Tu Meri Laila\". He also sang in Don (2006) and Jab Tak Hai Jaan (2012).[219] For Always Kabhi Kabhi (2011), which was produced by Red Chillies, Khan participated in the lyrical composition.[220]\\n\\nIn addition to his early television serial appearances, Khan has hosted numerous televised awards shows, including the Filmfare, Zee Cine, and Screen Awards.[221][222][223] In 2007, he replaced Amitabh Bachchan for one season as the host of Kaun Banega Crorepati, the Indian version of Who Wants to Be a Millionaire?,[224] and a year later, Khan began hosting Kya Aap Paanchvi Pass Se Tez Hain?, the Indian version of Are You Smarter Than a 5th Grader?.[225] In 2011, he returned to television, appearing on Imagine TV\\'s Zor Ka Jhatka: Total Wipeout, the Indian version of Wipeout; scenes featuring Khan were shot at the Yash Raj Studios in Mumbai.[226] Contrary to his earlier television anchoring jobs, Zor Ka Jhatka: Total Wipeout performed poorly. It aired for only one season and became the lowest rated show hosted by a Bollywood star.[226] In 2017, Khan began hosting TED Talks India Nayi Soch, a talk show produced by TED Conferences, LLC which started aired on STAR Plus.[227]\\n\\nStage performances\\nKhan is a frequent stage performer and has participated in several world tours and concerts. In 1997, he performed in Asha Bhosle\\'s Moments in Time concert in Malaysia, and returned the following year to perform with Karisma Kapoor for the Shahrukh–Karisma: Live in Malaysia concert.[228] The same year, he participated in The Awesome Foursome world tour across the United Kingdom, Canada, and the United States along with Juhi Chawla, Akshay Kumar and Kajol, and resumed the tour in Malaysia the following year.[229][230] In 2002, Khan featured with Amitabh Bachchan, Aamir Khan, Preity Zinta, and Aishwarya Rai in the show From India With Love at Manchester\\'s Old Trafford and London\\'s Hyde Park; the event was attended by more than 100,000 people.[231] Khan performed alongside Rani Mukherji, Arjun Rampal and Ishaa Koppikar in a 2010 concert at the St. Joseph High School field in Dhaka, Bangladesh.[232] The next year he joined Shahid Kapoor and Priyanka Chopra in the Friendship Concert, celebrating 150 years of India–South Africa friendship in Durban, South Africa.[233]\\n\\nKhan started an association with the \"Temptations\" series of concert tours by singing, dancing, and performing skits alongside Arjun Rampal, Priyanka Chopra, and other Bollywood stars in Temptations 2004, a stage show that toured 22 venues across the world.[234] The show played to 15,000 spectators at Dubai\\'s Festival City Arena.[235] In 2008, Khan set up Temptation Reloaded, a series of concerts that toured several countries, including the Netherlands.[236] Another tour was held with Bipasha Basu and others in 2012 in Jakarta,[237] and in 2013 another series of concerts visited Auckland, Perth and Sydney.[238] In 2014, Khan performed in SLAM! The Tour in the US, Canada, and London,[239] and also hosted the Indian premiere of the live talent show, Got Talent World Stage Live.[240]\\n\\nOwnership of Kolkata Knight Riders\\nIn 2008, Khan, in partnership with Juhi Chawla and her husband Jay Mehta, acquired ownership rights for the franchise representing Kolkata in the Twenty20 cricket tournament Indian Premier League (IPL) for US$75.09 million, and named the team Kolkata Knight Riders (KKR).[241] As of 2009, KKR was one of the richest teams in the IPL, with a brand value of US$42.1 million.[242] The team performed poorly on the field during the first three years.[243] Their performance improved over time, and they became the champions for the first time in 2012[243] and repeated the feat in 2014.[244] The Knight Riders hold the record for the longest winning streak by any Indian team in T20s (14).[245] They won their third IPL title in the 2024 edition.[246]\\n\\nKhan performed alongside Sunidhi Chauhan and Shriya Saran at the opening ceremony of the IPL 2011 season, where they danced to Tamil songs.[247] He appeared again in 2013 alongside Katrina Kaif, Deepika Padukone and Pitbull.[248] In May 2012, the Mumbai Cricket Association (MCA) banned him from the Wankhede Stadium for five years for getting into an argument with the security staff after a match between KKR and the Mumbai Indians.[249] Khan had, however, stated that he acted only after children, including his daughter, were being \"manhandled\" by the security staff[249][250] and that the officials were extremely high-handed and aggressive in their behaviour,[251] he had been abused with communal indecent comment.[250] Later MCA officials had accused him of being drunk in one version of the story, hitting the guard and of completely uncharacteristically abusing a female supporter of Mumbai Indians after the match in another version of the story, which Khan had maintained it was done to support their action and for cheap publicity.[250][252][253] Wankhede guard later contradicted MCA officials\\' claim and said Shah Rukh Khan had not hit him.[250] Khan later apologised to his fans after his team won the final match.[254] MCA revoked the ban in 2015[255] and in 2016, Mumbai Police informed that no \\'cognisable offence\\' was made out against Khan and they had come to the conclusion that Shah Rukh Khan was not drunk and did not use abusive language before minors at the Wankhede Stadium in 2012.[252][253]\\n\\nIn the media\\nMain article: Shah Rukh Khan in the media\\nShah Rukh Khan wearing sunglasses and a vest at a promotional event\\nAt a Tag Heuer press conference in 2012\\nKhan receives a considerable amount of media coverage in India, and is often referred to as \"King Khan\", \"The Baadshah of Bollywood\", or \"The King of Bollywood\".[b] Anupama Chopra cites him as an \"ever present celebrity\", with two or three films a year, constantly running television ads, print ads, and gigantic billboards lining the streets of Indian cities.[261] He is the object of a sometimes fanatical following, with a fan base estimated to exceed one billion.[262] Newsweek named Khan as one of their fifty most powerful people globally in 2008 and called him \"the world\\'s biggest movie star\".[263][264] In 2011 he was described as \"the biggest movie star you\\'ve never heard of...perhaps the world\\'s biggest movie star, period\" by Steven Zeitchik of the Los Angeles Times[g][266] and has been called the world\\'s biggest movie star in other international media outlets.[c] According to a popularity survey, 3.2 billion people around the world know Khan, more than who know Tom Cruise.[270] In a 2022 readers\\' poll by Empire magazine, Khan was listed as one of the 50 greatest actors of all time. The magazine attributed his success to the \"outrageous amounts of [his] charisma and absolute mastery of [his] craft. Comfortable in almost every genre going, there\\'s pretty much nothing he can\\'t do.\"[271] In 2023, Time magazine named him one of the 100 most influential people in the world,[272] and he topped the list per a readers poll.[273]\\n\\nKhan is one of the wealthiest celebrities in India, topping the Forbes India\\'s \"Celebrity 100 list\" in 2012, 2013 and 2015.[274][275][276] His wealth has been estimated at US$400–600 million.[277][278] Khan owns several properties in India and abroad, including a £20 million apartment in London,[279] and a villa on the Palm Jumeirah in Dubai.[280] From 2023–2024, Khan ranked as the highest tax payer in India.[281]\\n\\nKhan frequently appears on listings of the most popular, stylish and influential people in India. He has regularly featured among the top ten on The Times of India\\'s list of the 50 most desirable men in India,[282][283] and in a 2007 poll by the magazine Eastern Eye he was named the sexiest man in Asia.[284] Khan is often referred to as \"Brand SRK\" by media organisations because of his many brand endorsement and entrepreneurship ventures.[285][286] He is one of the highest paid Bollywood endorsers and one of the most visible celebrities in television advertising, with up to a six per cent share of the television advertisement market.[287][288] Khan has endorsed brands including Pepsi, Nokia, Hyundai, Dish TV, D\\'decor, LUX and TAG Heuer.[288][289] Books have been published about him,[290][291] and his popularity has been documented in several non-fiction films, including the two-part documentary The Inner and Outer World of Shah Rukh Khan (2005),[292] and the Discovery Travel & Living channel\\'s ten-part miniseries Living with a Superstar—Shah Rukh Khan (2010).[287] In 2007, Khan became the third Indian actor to have his wax statue installed at London\\'s Madame Tussauds museum, after Aishwarya Rai and Amitabh Bachchan.[293][294] Additional versions of the statue were installed at Madame Tussauds\\' museums in Los Angeles, Hong Kong, New York and Washington.[295]\\n\\nKhan has been brand ambassador of various governmental campaigns, including Pulse Polio and the National AIDS Control Organisation.[289] He is a member of the board of directors of the Make-A-Wish Foundation in India,[296] and in 2011 he was appointed by UNOPS as the first global ambassador of the Water Supply and Sanitation Collaborative Council.[297] He has recorded a series of public service announcements championing good health and proper nutrition, and joined India\\'s Health Ministry and UNICEF in a nationwide child immunisation campaign.[298] In 2011, he received UNESCO\\'s Pyramide con Marni award for his charitable commitment to provide education for children, becoming the first Indian to win the accolade.[299] In 2014, Khan became the ambassador for Interpol\\'s campaign \"Turn Back Crime\".[300] In 2015, Khan received a privileged degree from the University of Edinburgh, Scotland.[301] In 2018, Khan was honoured by the World Economic Forum with their annual Crystal Award for his leadership in championing children\\'s and women\\'s rights in India.[302][303]\\n\\nIn October 2019, Khan featured in a video launched by Prime Minister Narendra Modi to pay tribute to Mahatma Gandhi on his 150th birth anniversary. The preview of the video, which took place on 20 October 2019 at PMO, was attended by Khan, along with Aamir Khan, Kangana Ranaut, Rajkumar Hirani, Jacqueline Fernandez, Sonam Kapoor, Ekta Kapoor, Varun Sharma, Jackie Shroff, Imtiaz Ali, Sonu Nigam, Kapil Sharma, and many other dignitaries.[304][305][306] Khan\\'s distinctive voice and mannerisms have inspired many imitators and voice actors.[307] In the Hindi-dubbed version of the cartoon series Oggy and the Cockroaches, Saurav Chakrabarti emulates Khan\\'s voice for the character Oggy.[308]\\n\\nIn April 2020, Khan announced a series of initiatives to help the government of India and the state governments of Maharashtra, West Bengal and Delhi mitigate the COVID-19 pandemic as well as relief measures for thousands of underprivileged people and daily wage labourers affected by the lockdown.[309][310] He offered his 4-storey personal office space to the Brihanmumbai Municipal Corporation to be used as a quarantine centre for coronavirus patients.[311]\\n\\nAwards and recognitions\\nMain article: List of awards and nominations received by Shah Rukh Khan\\nKhan is one of the most decorated Bollywood actors.[52] He has received 14 Filmfare Awards from 30 nominations and special awards,[312][h] including winning eight for Best Actor; he is tied for the most in this category with Dilip Kumar.[150] Khan has won the Filmfare Award for Best Actor for his performances in Baazigar (1993), Dilwale Dulhania Le Jayenge (1995), Dil To Pagal Hai (1997), Kuch Kuch Hota Hai (1998), Devdas (2002), Swades (2004), Chak De! India (2007) and My Name Is Khan (2010).[61]\\n\\nAlthough he has never won a National Film Award,[313] he was awarded the Padma Shri by the Government of India in 2005.[52] The Government of France has awarded him both the Order of Arts and Letters (2007),[314] and the fifth degree of the French Legion of Honour, the Chevalier Légion d\\'honneur (2014).[315] Khan has received five honorary doctorates; the first from The University of Bedfordshire in 2009,[316] the second from The University of Edinburgh in 2015,[317] the third from Maulana Azad National Urdu University in 2016,[318] and his latest from The University of Law and La Trobe University in 2019.[319][320]\\n\\nPersonal life\\nShah Rukh Khan standing beside his wife Gauri at a party in 2012\\nKhan with his wife Gauri in 2012\\nKhan married Gauri Chibber, a Punjabi Hindu, in a traditional Hindu wedding ceremony on 25 October 1991, after a six-year courtship.[321][322] They have a son Aryan (born 1997)[323] and a daughter Suhana (born 2000).[324] In 2013, they became parents of a third child named AbRam,[325] who was born through a surrogate mother.[326] Both his elder children have expressed interest in entering the entertainment industry; Khan has stated that Aryan, who studied filmmaking at the USC School of Cinematic Arts in California, aspires to become a writer-director,[327][328] while Suhana, who served as assistant director for Khan\\'s film Zero (2018), is studying drama and acting at NYU\\'s Tisch School of the Arts for higher education.[329][330] Suhana made her acting debut in November 2019, in a short film titled \"The Grey Part of Blue.\"[331] According to Khan, while he strongly believes in Islam, he also values his wife\\'s religion. His children follow both religions; at his home the Qur\\'an is situated next to the murti of Hindu deities.[332]\\n\\nAlthough Khan was given the birth name Shahrukh Khan, he prefers his name to be written as Shah Rukh Khan, and is commonly referred to by the initialism SRK.[333]\\n')]\n"
     ]
    }
   ],
   "source": [
    "print(documents)"
   ]
  },
  {
   "cell_type": "code",
   "execution_count": 29,
   "metadata": {},
   "outputs": [],
   "source": [
    "text_splitter = RecursiveCharacterTextSplitter(\n",
    "    chunk_size = 500,\n",
    "    chunk_overlap = 100,\n",
    "    length_function = len\n",
    ")"
   ]
  },
  {
   "cell_type": "code",
   "execution_count": 30,
   "metadata": {},
   "outputs": [],
   "source": [
    "docs = text_splitter.split_documents(documents)"
   ]
  },
  {
   "cell_type": "code",
   "execution_count": 31,
   "metadata": {},
   "outputs": [
    {
     "data": {
      "text/plain": [
       "160"
      ]
     },
     "execution_count": 31,
     "metadata": {},
     "output_type": "execute_result"
    }
   ],
   "source": [
    "len(docs)"
   ]
  },
  {
   "cell_type": "code",
   "execution_count": 32,
   "metadata": {},
   "outputs": [
    {
     "data": {
      "text/plain": [
       "Document(metadata={'source': 'srk.txt'}, page_content=\"moral dilemma. India Today cites it as one of the first major Bollywood pictures to succeed in the United States.[75] Khan's final release of 1997 was the second collaboration with Yash Chopra in the popular musical romance Dil To Pagal Hai. He portrayed Rahul, a stage director caught in a love triangle between Madhuri Dixit and Karisma Kapoor. The film and his performance met with critical praise, winning Khan his third Best Actor Award at Filmfare.[58]\")"
      ]
     },
     "execution_count": 32,
     "metadata": {},
     "output_type": "execute_result"
    }
   ],
   "source": [
    "docs[40]"
   ]
  },
  {
   "cell_type": "code",
   "execution_count": 35,
   "metadata": {},
   "outputs": [],
   "source": [
    "embedding = OpenAIEmbeddings()"
   ]
  },
  {
   "cell_type": "code",
   "execution_count": 36,
   "metadata": {},
   "outputs": [],
   "source": [
    "library = FAISS.from_documents(documents=docs, embedding=embedding)"
   ]
  },
  {
   "cell_type": "code",
   "execution_count": 37,
   "metadata": {},
   "outputs": [],
   "source": [
    "Q1 = \"Who is SRK's wife?\"\n",
    "Q2 = \"How old is SRK?\"\n",
    "Q3 = \"Is srk a millionaire?\""
   ]
  },
  {
   "cell_type": "code",
   "execution_count": 38,
   "metadata": {},
   "outputs": [],
   "source": [
    "Query_Answer = library.similarity_search(Q1,k=3)"
   ]
  },
  {
   "cell_type": "code",
   "execution_count": 46,
   "metadata": {},
   "outputs": [
    {
     "data": {
      "text/plain": [
       "'Personal life\\nShah Rukh Khan standing beside his wife Gauri at a party in 2012\\nKhan with his wife Gauri in 2012'"
      ]
     },
     "execution_count": 46,
     "metadata": {},
     "output_type": "execute_result"
    }
   ],
   "source": [
    "Query_Answer[0].page_content"
   ]
  },
  {
   "cell_type": "code",
   "execution_count": 49,
   "metadata": {},
   "outputs": [],
   "source": [
    "docs_and_scores = library.similarity_search_with_score(Q2)"
   ]
  },
  {
   "cell_type": "code",
   "execution_count": 53,
   "metadata": {},
   "outputs": [
    {
     "data": {
      "text/plain": [
       "[(Document(id='4ed50afc-ac05-4909-9130-0905287b1ec3', metadata={'source': 'srk.txt'}, page_content='Shah Rukh Khan[a] (pronounced [ˈʃɑːɦɾʊx xɑːn] ⓘ; born 2 November 1965), also known by the initialism SRK, is an Indian actor and film producer who works in Hindi cinema. Referred to in the media as the \"Baadshah of Bollywood\" and \"King Khan\",[b] he has appeared in more than 100 films, and earned numerous accolades, including 14 Filmfare Awards. He has been awarded the Padma Shri by the Government of India, as well as the Order of Arts and Letters and Legion of Honour by the Government of France.'),\n",
       "  0.2927246),\n",
       " (Document(id='f5be8504-e320-466b-8f59-04c8fc312875', metadata={'source': 'srk.txt'}, page_content='As of 2015, Khan is co-chairman of the motion picture production company Red Chillies Entertainment and its subsidiaries and is the co-owner of the Indian Premier League cricket team Kolkata Knight Riders and the Caribbean Premier League team Trinbago Knight Riders. The media often label him as \"Brand SRK\" because of his many endorsements and entrepreneurship ventures. He is a frequent television presenter and stage show performer. Khan\\'s philanthropic endeavours have provided health care and'),\n",
       "  0.35080725),\n",
       " (Document(id='aefdf406-239b-495f-8250-6f64305a6b38', metadata={'source': 'srk.txt'}, page_content='Although Khan was given the birth name Shahrukh Khan, he prefers his name to be written as Shah Rukh Khan, and is commonly referred to by the initialism SRK.[333]'),\n",
       "  0.35702616),\n",
       " (Document(id='bb330daa-6b09-40d3-b8c0-1efbf47a35a1', metadata={'source': 'srk.txt'}, page_content='Khan frequently appears on listings of the most popular, stylish and influential people in India. He has regularly featured among the top ten on The Times of India\\'s list of the 50 most desirable men in India,[282][283] and in a 2007 poll by the magazine Eastern Eye he was named the sexiest man in Asia.[284] Khan is often referred to as \"Brand SRK\" by media organisations because of his many brand endorsement and entrepreneurship ventures.[285][286] He is one of the highest paid Bollywood'),\n",
       "  0.36111665)]"
      ]
     },
     "execution_count": 53,
     "metadata": {},
     "output_type": "execute_result"
    }
   ],
   "source": [
    "docs_and_scores"
   ]
  },
  {
   "cell_type": "code",
   "execution_count": 61,
   "metadata": {},
   "outputs": [],
   "source": [
    "retriever = library.as_retriever()"
   ]
  },
  {
   "cell_type": "code",
   "execution_count": 66,
   "metadata": {},
   "outputs": [],
   "source": [
    "qa = RetrievalQA.from_chain_type(\n",
    "llm = OpenAI(),\n",
    "    chain_type = \"map_reduce\",\n",
    "    retriever = retriever\n",
    ")"
   ]
  },
  {
   "cell_type": "code",
   "execution_count": 76,
   "metadata": {},
   "outputs": [],
   "source": [
    "retriever_query = \"Who is his wife?\"\n"
   ]
  },
  {
   "cell_type": "code",
   "execution_count": 77,
   "metadata": {},
   "outputs": [],
   "source": [
    "results = qa.invoke(retriever_query)"
   ]
  },
  {
   "cell_type": "code",
   "execution_count": 78,
   "metadata": {},
   "outputs": [
    {
     "name": "stdout",
     "output_type": "stream",
     "text": [
      "{'query': 'Who is his wife?', 'result': ' His wife is not mentioned in this portion of the document.'}\n"
     ]
    }
   ],
   "source": [
    "print(results)"
   ]
  },
  {
   "cell_type": "code",
   "execution_count": 79,
   "metadata": {},
   "outputs": [],
   "source": [
    "library.save_local(\"faiss_index_srk\")"
   ]
  },
  {
   "cell_type": "code",
   "execution_count": 80,
   "metadata": {},
   "outputs": [
    {
     "ename": "ValueError",
     "evalue": "The de-serialization relies loading a pickle file. Pickle files can be modified to deliver a malicious payload that results in execution of arbitrary code on your machine.You will need to set `allow_dangerous_deserialization` to `True` to enable deserialization. If you do this, make sure that you trust the source of the data. For example, if you are loading a file that you created, and know that no one else has modified the file, then this is safe to do. Do not set this to `True` if you are loading a file from an untrusted source (e.g., some random site on the internet.).",
     "output_type": "error",
     "traceback": [
      "\u001b[1;31m---------------------------------------------------------------------------\u001b[0m",
      "\u001b[1;31mValueError\u001b[0m                                Traceback (most recent call last)",
      "Cell \u001b[1;32mIn[80], line 1\u001b[0m\n\u001b[1;32m----> 1\u001b[0m srk_saved \u001b[38;5;241m=\u001b[39m \u001b[43mFAISS\u001b[49m\u001b[38;5;241;43m.\u001b[39;49m\u001b[43mload_local\u001b[49m\u001b[43m(\u001b[49m\u001b[38;5;124;43m\"\u001b[39;49m\u001b[38;5;124;43mfaiss_index_srk\u001b[39;49m\u001b[38;5;124;43m\"\u001b[39;49m\u001b[43m,\u001b[49m\u001b[43membeddings\u001b[49m\u001b[38;5;241;43m=\u001b[39;49m\u001b[43membedding\u001b[49m\u001b[43m)\u001b[49m\n",
      "File \u001b[1;32mc:\\Users\\DELL\\AppData\\Local\\Programs\\Python\\Python312\\Lib\\site-packages\\langchain_community\\vectorstores\\faiss.py:1190\u001b[0m, in \u001b[0;36mFAISS.load_local\u001b[1;34m(cls, folder_path, embeddings, index_name, allow_dangerous_deserialization, **kwargs)\u001b[0m\n\u001b[0;32m   1176\u001b[0m \u001b[38;5;250m\u001b[39m\u001b[38;5;124;03m\"\"\"Load FAISS index, docstore, and index_to_docstore_id from disk.\u001b[39;00m\n\u001b[0;32m   1177\u001b[0m \n\u001b[0;32m   1178\u001b[0m \u001b[38;5;124;03mArgs:\u001b[39;00m\n\u001b[1;32m   (...)\u001b[0m\n\u001b[0;32m   1187\u001b[0m \u001b[38;5;124;03m        arbitrary code on your machine.\u001b[39;00m\n\u001b[0;32m   1188\u001b[0m \u001b[38;5;124;03m\"\"\"\u001b[39;00m\n\u001b[0;32m   1189\u001b[0m \u001b[38;5;28;01mif\u001b[39;00m \u001b[38;5;129;01mnot\u001b[39;00m allow_dangerous_deserialization:\n\u001b[1;32m-> 1190\u001b[0m     \u001b[38;5;28;01mraise\u001b[39;00m \u001b[38;5;167;01mValueError\u001b[39;00m(\n\u001b[0;32m   1191\u001b[0m         \u001b[38;5;124m\"\u001b[39m\u001b[38;5;124mThe de-serialization relies loading a pickle file. \u001b[39m\u001b[38;5;124m\"\u001b[39m\n\u001b[0;32m   1192\u001b[0m         \u001b[38;5;124m\"\u001b[39m\u001b[38;5;124mPickle files can be modified to deliver a malicious payload that \u001b[39m\u001b[38;5;124m\"\u001b[39m\n\u001b[0;32m   1193\u001b[0m         \u001b[38;5;124m\"\u001b[39m\u001b[38;5;124mresults in execution of arbitrary code on your machine.\u001b[39m\u001b[38;5;124m\"\u001b[39m\n\u001b[0;32m   1194\u001b[0m         \u001b[38;5;124m\"\u001b[39m\u001b[38;5;124mYou will need to set `allow_dangerous_deserialization` to `True` to \u001b[39m\u001b[38;5;124m\"\u001b[39m\n\u001b[0;32m   1195\u001b[0m         \u001b[38;5;124m\"\u001b[39m\u001b[38;5;124menable deserialization. If you do this, make sure that you \u001b[39m\u001b[38;5;124m\"\u001b[39m\n\u001b[0;32m   1196\u001b[0m         \u001b[38;5;124m\"\u001b[39m\u001b[38;5;124mtrust the source of the data. For example, if you are loading a \u001b[39m\u001b[38;5;124m\"\u001b[39m\n\u001b[0;32m   1197\u001b[0m         \u001b[38;5;124m\"\u001b[39m\u001b[38;5;124mfile that you created, and know that no one else has modified the \u001b[39m\u001b[38;5;124m\"\u001b[39m\n\u001b[0;32m   1198\u001b[0m         \u001b[38;5;124m\"\u001b[39m\u001b[38;5;124mfile, then this is safe to do. Do not set this to `True` if you are \u001b[39m\u001b[38;5;124m\"\u001b[39m\n\u001b[0;32m   1199\u001b[0m         \u001b[38;5;124m\"\u001b[39m\u001b[38;5;124mloading a file from an untrusted source (e.g., some random site on \u001b[39m\u001b[38;5;124m\"\u001b[39m\n\u001b[0;32m   1200\u001b[0m         \u001b[38;5;124m\"\u001b[39m\u001b[38;5;124mthe internet.).\u001b[39m\u001b[38;5;124m\"\u001b[39m\n\u001b[0;32m   1201\u001b[0m     )\n\u001b[0;32m   1202\u001b[0m path \u001b[38;5;241m=\u001b[39m Path(folder_path)\n\u001b[0;32m   1203\u001b[0m \u001b[38;5;66;03m# load index separately since it is not picklable\u001b[39;00m\n",
      "\u001b[1;31mValueError\u001b[0m: The de-serialization relies loading a pickle file. Pickle files can be modified to deliver a malicious payload that results in execution of arbitrary code on your machine.You will need to set `allow_dangerous_deserialization` to `True` to enable deserialization. If you do this, make sure that you trust the source of the data. For example, if you are loading a file that you created, and know that no one else has modified the file, then this is safe to do. Do not set this to `True` if you are loading a file from an untrusted source (e.g., some random site on the internet.)."
     ]
    }
   ],
   "source": [
    "srk_saved = FAISS.load_local(\"faiss_index_srk\",embeddings=embedding)"
   ]
  }
 ],
 "metadata": {
  "kernelspec": {
   "display_name": "Python 3",
   "language": "python",
   "name": "python3"
  },
  "language_info": {
   "codemirror_mode": {
    "name": "ipython",
    "version": 3
   },
   "file_extension": ".py",
   "mimetype": "text/x-python",
   "name": "python",
   "nbconvert_exporter": "python",
   "pygments_lexer": "ipython3",
   "version": "3.12.6"
  }
 },
 "nbformat": 4,
 "nbformat_minor": 2
}
